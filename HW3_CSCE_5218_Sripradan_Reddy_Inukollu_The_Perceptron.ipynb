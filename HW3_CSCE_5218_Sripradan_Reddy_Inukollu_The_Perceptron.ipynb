{
  "cells": [
    {
      "cell_type": "markdown",
      "metadata": {
        "id": "vYiZq0X2oB5t"
      },
      "source": [
        "# **CSCE 5218 / CSCE 4930 Deep Learning**\n",
        "\n",
        "# **The Perceptron** (20 pt)\n"
      ]
    },
    {
      "cell_type": "code",
      "execution_count": 12,
      "metadata": {
        "colab": {
          "base_uri": "https://localhost:8080/"
        },
        "id": "vGVmKzgG2Ium",
        "outputId": "a97aa830-0478-4b97-8d3a-febad7b8416e"
      },
      "outputs": [
        {
          "output_type": "execute_result",
          "data": {
            "text/plain": [
              "['  % Total    % Received % Xferd  Average Speed   Time    Time     Time  Current',\n",
              " '                                 Dload  Upload   Total   Spent    Left  Speed',\n",
              " '',\n",
              " '  0     0    0     0    0     0      0      0 --:--:-- --:--:-- --:--:--     0',\n",
              " '100 11645  100 11645    0     0   137k      0 --:--:-- --:--:-- --:--:--  138k']"
            ]
          },
          "metadata": {},
          "execution_count": 12
        }
      ],
      "source": [
        "# Get the datasets\n",
        "!!/usr/bin/curl --output test.dat https://raw.githubusercontent.com/huangyanann/CSCE5218/main/test_small.txt\n",
        "!!/usr/bin/curl --output train.dat https://raw.githubusercontent.com/huangyanann/CSCE5218/main/train.txt"
      ]
    },
    {
      "cell_type": "code",
      "execution_count": 13,
      "metadata": {
        "colab": {
          "base_uri": "https://localhost:8080/"
        },
        "id": "A69DxPSc8vNs",
        "outputId": "c0dfd3f0-8a61-48d7-dbfc-0dc59b474602"
      },
      "outputs": [
        {
          "output_type": "stream",
          "name": "stdout",
          "text": [
            "A1\tA2\tA3\tA4\tA5\tA6\tA7\tA8\tA9\tA10\tA11\tA12\tA13\t\r\n",
            "1\t1\t0\t0\t0\t0\t0\t0\t1\t1\t0\t0\t1\t0\r\n",
            "0\t0\t1\t1\t0\t1\t1\t0\t0\t0\t0\t0\t1\t0\r\n",
            "0\t1\t0\t1\t1\t0\t1\t0\t1\t1\t1\t0\t1\t1\r\n",
            "0\t0\t1\t0\t0\t1\t0\t1\t0\t1\t1\t1\t1\t0\r\n",
            "0\t1\t0\t0\t0\t0\t0\t1\t1\t1\t1\t1\t1\t0\r\n",
            "0\t1\t1\t1\t0\t0\t0\t1\t0\t1\t1\t0\t1\t1\r\n",
            "0\t1\t1\t0\t0\t0\t1\t0\t0\t0\t0\t0\t1\t0\r\n",
            "0\t0\t0\t1\t1\t0\t1\t1\t1\t0\t0\t0\t1\t0\r\n",
            "0\t0\t0\t0\t0\t0\t1\t0\t1\t0\t1\t0\t1\t0\n",
            "X1\tX2\tX3\n",
            "1\t1\t1\t1\n",
            "0\t0\t1\t1\n",
            "0\t1\t1\t0\n",
            "0\t1\t1\t0\n",
            "0\t1\t1\t0\n",
            "0\t1\t1\t0\n",
            "0\t1\t1\t0\n",
            "0\t1\t1\t0\n",
            "1\t1\t1\t1\n"
          ]
        }
      ],
      "source": [
        "# Take a peek at the datasets\n",
        "!head train.dat\n",
        "!head test.dat"
      ]
    },
    {
      "cell_type": "markdown",
      "metadata": {
        "id": "rFXHLhnhwiBR"
      },
      "source": [
        "### Build the Perceptron Model\n",
        "\n",
        "You will need to complete some of the function definitions below.  DO NOT import any other libraries to complete this."
      ]
    },
    {
      "cell_type": "code",
      "execution_count": 14,
      "metadata": {
        "id": "cXAsP_lw3QwJ"
      },
      "outputs": [],
      "source": [
        "import math\n",
        "import re\n",
        "\n",
        "# Corpus reader, all columns but the last one are coordinates; the last column is the label\n",
        "def read_data(file_name):\n",
        "    f = open(file_name, 'r')\n",
        "    data = []\n",
        "    f.readline()  # Discard header line\n",
        "    for instance in f.readlines():\n",
        "        if not re.search('\\t', instance):\n",
        "            continue\n",
        "        instance = list(map(int, instance.strip().split('\\t')))\n",
        "        instance = [-1] + instance  # Add bias input\n",
        "        data.append(instance)\n",
        "    return data\n",
        "\n",
        "# Compute the dot product of two arrays\n",
        "def dot_product(array1, array2):\n",
        "    sum = 0\n",
        "    for a, b in zip(array1, array2):\n",
        "        sum += a * b\n",
        "    return sum\n",
        "# Sigmoid activation function\n",
        "def sigmoid(x):\n",
        "    # TODO: Implement sigmoid function\n",
        "    return 1 / (1 + math.exp(-x))\n",
        "\n",
        "# The output of the model, which for the perceptron is\n",
        "# the sigmoid function applied to the dot product of\n",
        "# the instance and the weights\n",
        "def output(weight, instance):\n",
        "    # TODO: Compute perceptron output\n",
        "    return sigmoid(dot_product(weight, instance))\n",
        "\n",
        "# Predict the label of an instance; this is the definition of the perceptron\n",
        "# you should output 1 if the output is >= 0.5 else output 0\n",
        "def predict(weights, instance):\n",
        "    # TODO: Implement perceptron prediction\n",
        "    return 1 if output(weights, instance) >= 0.5 else 0\n",
        "\n",
        "# Compute accuracy of the model\n",
        "def get_accuracy(weights, instances):\n",
        "    correct = sum(1 if predict(weights, instance) == instance[-1] else 0 for instance in instances)\n",
        "    return correct * 100 / len(instances)\n",
        "\n",
        "# Train a perceptron with instances and hyperparameters:\n",
        "#       lr (learning rate)\n",
        "#       epochs\n",
        "# The implementation comes from the definition of the perceptron\n",
        "#\n",
        "# Training consists on fitting the parameters which are the weights\n",
        "# that's the only thing training is responsible to fit\n",
        "# (recall that w0 is the bias, and w1..wn are the weights for each coordinate)\n",
        "#\n",
        "# Hyperparameters (lr and epochs) are given to the training algorithm\n",
        "# We are updating weights in the opposite direction of the gradient of the error,\n",
        "# so with a \"decent\" lr we are guaranteed to reduce the error after each iteration.\n",
        "# Train perceptron using given learning rate and epochs\n",
        "def train_perceptron(instances, lr, epochs):\n",
        "\n",
        "    # TODO: Initialize weights to zero\n",
        "    # To begin training, we need to initialize the weights to zero. The number of weights should be equal to the number of features in every example, minus the label. These weights will be updated during training to minimize the error.\n",
        "    weights = [0] * (len(instances[0]) - 1)\n",
        "\n",
        "    for _ in range(epochs):\n",
        "        for instance in instances:\n",
        "\n",
        "            # TODO: Compute weighted sum and activation output\n",
        "            # For each example, we compute the weighted sum by calculating the dot product of the feature values and the corresponding weights. The result is then passed to a sigmoid activation function to produce the output that makes the prediction of the perceptron.\n",
        "            in_value = dot_product(weights, instance)\n",
        "            output_value = sigmoid(in_value)\n",
        "\n",
        "            # TODO: Compute error\n",
        "            # The error is defined as the difference between the expected label (terminal value in the example) and the output that the perceptron predicts. The error is used to inform weight updates so that the perceptron can learn from errors.\n",
        "            error = instance[-1] - output_value\n",
        "\n",
        "            # TODO: Update weights using gradient descent\n",
        "            # - Adjust each weight based on the error calculated and the derivative of the sigmoid function.\n",
        "            # - Use the learning rate to control the size of the update.\n",
        "            # - By Utilize the update equation: w[i] += lr * error * output_value * (1 - output_value) * instance[i].\n",
        "\n",
        "            for i in range(len(weights)):\n",
        "                weights[i] += lr * error * output_value * (1 - output_value) * instance[i]\n",
        "\n",
        "    return weights\n"
      ]
    },
    {
      "cell_type": "markdown",
      "metadata": {
        "id": "adBZuMlAwiBT"
      },
      "source": [
        "## Run it"
      ]
    },
    {
      "cell_type": "code",
      "execution_count": 15,
      "metadata": {
        "id": "50YvUza-BYQF",
        "colab": {
          "base_uri": "https://localhost:8080/"
        },
        "outputId": "40c89787-4578-411e-a021-a7802e1ef53a"
      },
      "outputs": [
        {
          "output_type": "stream",
          "name": "stdout",
          "text": [
            "#tr: 400, epochs:   5, learning rate: 0.005; Accuracy (test, 14 instances): 71.4\n"
          ]
        }
      ],
      "source": [
        "instances_tr = read_data(\"train.dat\")\n",
        "instances_te = read_data(\"test.dat\")\n",
        "lr = 0.005\n",
        "epochs = 5\n",
        "weights = train_perceptron(instances_tr, lr, epochs)\n",
        "accuracy = get_accuracy(weights, instances_te)\n",
        "print(f\"#tr: {len(instances_tr):3}, epochs: {epochs:3}, learning rate: {lr:.3f}; \"\n",
        "      f\"Accuracy (test, {len(instances_te)} instances): {accuracy:.1f}\")"
      ]
    },
    {
      "cell_type": "markdown",
      "metadata": {
        "id": "CBXkvaiQMohX"
      },
      "source": [
        "## Questions\n",
        "\n",
        "Answer the following questions. Include your implementation and the output for each question."
      ]
    },
    {
      "cell_type": "markdown",
      "metadata": {
        "id": "YCQ6BEk1CBlr"
      },
      "source": [
        "\n",
        "\n",
        "### Question 1\n",
        "\n",
        "In `train_perceptron(instances, lr, epochs)`, we have the follosing code:\n",
        "```\n",
        "in_value = dot_product(weights, instance)\n",
        "output = sigmoid(in_value)\n",
        "error = instance[-1] - output\n",
        "```\n",
        "\n",
        "Why don't we have the following code snippet instead?\n",
        "```\n",
        "output = predict(weights, instance)\n",
        "error = instance[-1] - output\n",
        "```\n",
        "\n",
        "#### TODO Add your answer here (text only)\n",
        "Why we don't have the following  code  because:\n",
        "#### Smooth Learning:\n",
        " - Sigmoid makes the model learn smoothly with a gradient rather than in discrete steps.\n",
        "\n",
        "#### Gradient Decent Requires the Continuous values :\n",
        "-  The sigmoid function permits the perceptron to utilize gradient descent efficiently.\n",
        "\n",
        "#### Prevents Dead Neurons from occurring:\n",
        "- Step function (predict) can result in weights getting stuck if error is always 0 or 1.\n",
        "\n",
        "\n",
        "#### In the first Snippet :\n",
        "- The sigmoid(in_value) returns a continuous output value between 0 and 1.\n",
        "- The error is derived from this smooth output, allowing for meaningful weight updates through gradient descent.\n",
        "\n",
        "#### In the second Snippet :\n",
        "- If predict(weights, instance) returns a hard threshold (0 or 1), then error calculation ceases to be differentiable.\n",
        "- Because gradient descent involves small, incremental adjustments to the weights, this step function would halt smooth learning.\n",
        "\n",
        "##### These are few observatations whic i made\n",
        "\n",
        "- The derivative of a step function is zero almost everywhere, so the weight updates will be either random or non-existent.\n",
        "- This makes learning infeasible as the model won't be able to update its weights in a correct manner.\n",
        "- The sigmoid function guarantees that the output probability is influenced by even slight weight updates.\n",
        "- This gradual updating enables the model to converge to a solution rather than performing sudden, ineffective updates.\n",
        "\n",
        "\n"
      ]
    },
    {
      "cell_type": "markdown",
      "metadata": {
        "id": "JU3c3m6YL2rK"
      },
      "source": [
        "### Question 2\n",
        "Train the perceptron with the following hyperparameters and calculate the accuracy with the test dataset.\n",
        "\n",
        "```\n",
        "tr_percent = [5, 10, 25, 50, 75, 100] # percent of the training dataset to train with\n",
        "num_epochs = [5, 10, 20, 50, 100]              # number of epochs\n",
        "lr = [0.005, 0.01, 0.05]              # learning rate\n",
        "```\n",
        "\n",
        "TODO: Write your code below and include the output at the end of each training loop (NOT AFTER EACH EPOCH)\n",
        "of your code.The output should look like the following:\n",
        "```\n",
        "# tr:  20, epochs:   5, learning rate: 0.005; Accuracy (test, 100 instances): 68.0\n",
        "# tr:  20, epochs:  10, learning rate: 0.005; Accuracy (test, 100 instances): 68.0\n",
        "# tr:  20, epochs:  20, learning rate: 0.005; Accuracy (test, 100 instances): 68.0\n",
        "[and so on for all the combinations]\n",
        "```\n",
        "You will get different results with different hyperparameters.\n",
        "\n",
        "#### TODO Add your answer here (code and output in the format above)\n"
      ]
    },
    {
      "cell_type": "code",
      "execution_count": 16,
      "metadata": {
        "id": "G-VKJOUu2BTp",
        "colab": {
          "base_uri": "https://localhost:8080/"
        },
        "outputId": "fc56590f-2a16-4bf7-eb86-8b04e266cea4"
      },
      "outputs": [
        {
          "output_type": "stream",
          "name": "stdout",
          "text": [
            "#tr: 20, epochs:   5, learning rate: 0.005; Accuracy (test, 14 instances): 71.4\n",
            "#tr: 20, epochs:  10, learning rate: 0.005; Accuracy (test, 14 instances): 71.4\n",
            "#tr: 20, epochs:  20, learning rate: 0.005; Accuracy (test, 14 instances): 71.4\n",
            "#tr: 20, epochs:  50, learning rate: 0.005; Accuracy (test, 14 instances): 71.4\n",
            "#tr: 20, epochs: 100, learning rate: 0.005; Accuracy (test, 14 instances): 85.7\n",
            "#tr: 40, epochs:   5, learning rate: 0.005; Accuracy (test, 14 instances): 71.4\n",
            "#tr: 40, epochs:  10, learning rate: 0.005; Accuracy (test, 14 instances): 71.4\n",
            "#tr: 40, epochs:  20, learning rate: 0.005; Accuracy (test, 14 instances): 71.4\n",
            "#tr: 40, epochs:  50, learning rate: 0.005; Accuracy (test, 14 instances): 71.4\n",
            "#tr: 40, epochs: 100, learning rate: 0.005; Accuracy (test, 14 instances): 71.4\n",
            "#tr: 100, epochs:   5, learning rate: 0.005; Accuracy (test, 14 instances): 71.4\n",
            "#tr: 100, epochs:  10, learning rate: 0.005; Accuracy (test, 14 instances): 71.4\n",
            "#tr: 100, epochs:  20, learning rate: 0.005; Accuracy (test, 14 instances): 71.4\n",
            "#tr: 100, epochs:  50, learning rate: 0.005; Accuracy (test, 14 instances): 71.4\n",
            "#tr: 100, epochs: 100, learning rate: 0.005; Accuracy (test, 14 instances): 71.4\n",
            "#tr: 200, epochs:   5, learning rate: 0.005; Accuracy (test, 14 instances): 71.4\n",
            "#tr: 200, epochs:  10, learning rate: 0.005; Accuracy (test, 14 instances): 71.4\n",
            "#tr: 200, epochs:  20, learning rate: 0.005; Accuracy (test, 14 instances): 71.4\n",
            "#tr: 200, epochs:  50, learning rate: 0.005; Accuracy (test, 14 instances): 85.7\n",
            "#tr: 200, epochs: 100, learning rate: 0.005; Accuracy (test, 14 instances): 85.7\n",
            "#tr: 300, epochs:   5, learning rate: 0.005; Accuracy (test, 14 instances): 71.4\n",
            "#tr: 300, epochs:  10, learning rate: 0.005; Accuracy (test, 14 instances): 71.4\n",
            "#tr: 300, epochs:  20, learning rate: 0.005; Accuracy (test, 14 instances): 71.4\n",
            "#tr: 300, epochs:  50, learning rate: 0.005; Accuracy (test, 14 instances): 71.4\n",
            "#tr: 300, epochs: 100, learning rate: 0.005; Accuracy (test, 14 instances): 85.7\n",
            "#tr: 400, epochs:   5, learning rate: 0.005; Accuracy (test, 14 instances): 71.4\n",
            "#tr: 400, epochs:  10, learning rate: 0.005; Accuracy (test, 14 instances): 71.4\n",
            "#tr: 400, epochs:  20, learning rate: 0.005; Accuracy (test, 14 instances): 71.4\n",
            "#tr: 400, epochs:  50, learning rate: 0.005; Accuracy (test, 14 instances): 71.4\n",
            "#tr: 400, epochs: 100, learning rate: 0.005; Accuracy (test, 14 instances): 71.4\n",
            "#tr: 20, epochs:   5, learning rate: 0.010; Accuracy (test, 14 instances): 71.4\n",
            "#tr: 20, epochs:  10, learning rate: 0.010; Accuracy (test, 14 instances): 71.4\n",
            "#tr: 20, epochs:  20, learning rate: 0.010; Accuracy (test, 14 instances): 71.4\n",
            "#tr: 20, epochs:  50, learning rate: 0.010; Accuracy (test, 14 instances): 85.7\n",
            "#tr: 20, epochs: 100, learning rate: 0.010; Accuracy (test, 14 instances): 42.9\n",
            "#tr: 40, epochs:   5, learning rate: 0.010; Accuracy (test, 14 instances): 71.4\n",
            "#tr: 40, epochs:  10, learning rate: 0.010; Accuracy (test, 14 instances): 71.4\n",
            "#tr: 40, epochs:  20, learning rate: 0.010; Accuracy (test, 14 instances): 71.4\n",
            "#tr: 40, epochs:  50, learning rate: 0.010; Accuracy (test, 14 instances): 71.4\n",
            "#tr: 40, epochs: 100, learning rate: 0.010; Accuracy (test, 14 instances): 85.7\n",
            "#tr: 100, epochs:   5, learning rate: 0.010; Accuracy (test, 14 instances): 71.4\n",
            "#tr: 100, epochs:  10, learning rate: 0.010; Accuracy (test, 14 instances): 71.4\n",
            "#tr: 100, epochs:  20, learning rate: 0.010; Accuracy (test, 14 instances): 71.4\n",
            "#tr: 100, epochs:  50, learning rate: 0.010; Accuracy (test, 14 instances): 71.4\n",
            "#tr: 100, epochs: 100, learning rate: 0.010; Accuracy (test, 14 instances): 28.6\n",
            "#tr: 200, epochs:   5, learning rate: 0.010; Accuracy (test, 14 instances): 71.4\n",
            "#tr: 200, epochs:  10, learning rate: 0.010; Accuracy (test, 14 instances): 71.4\n",
            "#tr: 200, epochs:  20, learning rate: 0.010; Accuracy (test, 14 instances): 71.4\n",
            "#tr: 200, epochs:  50, learning rate: 0.010; Accuracy (test, 14 instances): 85.7\n",
            "#tr: 200, epochs: 100, learning rate: 0.010; Accuracy (test, 14 instances): 85.7\n",
            "#tr: 300, epochs:   5, learning rate: 0.010; Accuracy (test, 14 instances): 71.4\n",
            "#tr: 300, epochs:  10, learning rate: 0.010; Accuracy (test, 14 instances): 71.4\n",
            "#tr: 300, epochs:  20, learning rate: 0.010; Accuracy (test, 14 instances): 71.4\n",
            "#tr: 300, epochs:  50, learning rate: 0.010; Accuracy (test, 14 instances): 85.7\n",
            "#tr: 300, epochs: 100, learning rate: 0.010; Accuracy (test, 14 instances): 85.7\n",
            "#tr: 400, epochs:   5, learning rate: 0.010; Accuracy (test, 14 instances): 71.4\n",
            "#tr: 400, epochs:  10, learning rate: 0.010; Accuracy (test, 14 instances): 71.4\n",
            "#tr: 400, epochs:  20, learning rate: 0.010; Accuracy (test, 14 instances): 71.4\n",
            "#tr: 400, epochs:  50, learning rate: 0.010; Accuracy (test, 14 instances): 71.4\n",
            "#tr: 400, epochs: 100, learning rate: 0.010; Accuracy (test, 14 instances): 71.4\n",
            "#tr: 20, epochs:   5, learning rate: 0.050; Accuracy (test, 14 instances): 71.4\n",
            "#tr: 20, epochs:  10, learning rate: 0.050; Accuracy (test, 14 instances): 85.7\n",
            "#tr: 20, epochs:  20, learning rate: 0.050; Accuracy (test, 14 instances): 42.9\n",
            "#tr: 20, epochs:  50, learning rate: 0.050; Accuracy (test, 14 instances): 42.9\n",
            "#tr: 20, epochs: 100, learning rate: 0.050; Accuracy (test, 14 instances): 42.9\n",
            "#tr: 40, epochs:   5, learning rate: 0.050; Accuracy (test, 14 instances): 71.4\n",
            "#tr: 40, epochs:  10, learning rate: 0.050; Accuracy (test, 14 instances): 71.4\n",
            "#tr: 40, epochs:  20, learning rate: 0.050; Accuracy (test, 14 instances): 71.4\n",
            "#tr: 40, epochs:  50, learning rate: 0.050; Accuracy (test, 14 instances): 28.6\n",
            "#tr: 40, epochs: 100, learning rate: 0.050; Accuracy (test, 14 instances): 42.9\n",
            "#tr: 100, epochs:   5, learning rate: 0.050; Accuracy (test, 14 instances): 71.4\n",
            "#tr: 100, epochs:  10, learning rate: 0.050; Accuracy (test, 14 instances): 71.4\n",
            "#tr: 100, epochs:  20, learning rate: 0.050; Accuracy (test, 14 instances): 28.6\n",
            "#tr: 100, epochs:  50, learning rate: 0.050; Accuracy (test, 14 instances): 28.6\n",
            "#tr: 100, epochs: 100, learning rate: 0.050; Accuracy (test, 14 instances): 28.6\n",
            "#tr: 200, epochs:   5, learning rate: 0.050; Accuracy (test, 14 instances): 85.7\n",
            "#tr: 200, epochs:  10, learning rate: 0.050; Accuracy (test, 14 instances): 85.7\n",
            "#tr: 200, epochs:  20, learning rate: 0.050; Accuracy (test, 14 instances): 85.7\n",
            "#tr: 200, epochs:  50, learning rate: 0.050; Accuracy (test, 14 instances): 85.7\n",
            "#tr: 200, epochs: 100, learning rate: 0.050; Accuracy (test, 14 instances): 85.7\n",
            "#tr: 300, epochs:   5, learning rate: 0.050; Accuracy (test, 14 instances): 71.4\n",
            "#tr: 300, epochs:  10, learning rate: 0.050; Accuracy (test, 14 instances): 85.7\n",
            "#tr: 300, epochs:  20, learning rate: 0.050; Accuracy (test, 14 instances): 85.7\n",
            "#tr: 300, epochs:  50, learning rate: 0.050; Accuracy (test, 14 instances): 85.7\n",
            "#tr: 300, epochs: 100, learning rate: 0.050; Accuracy (test, 14 instances): 85.7\n",
            "#tr: 400, epochs:   5, learning rate: 0.050; Accuracy (test, 14 instances): 71.4\n",
            "#tr: 400, epochs:  10, learning rate: 0.050; Accuracy (test, 14 instances): 71.4\n",
            "#tr: 400, epochs:  20, learning rate: 0.050; Accuracy (test, 14 instances): 71.4\n",
            "#tr: 400, epochs:  50, learning rate: 0.050; Accuracy (test, 14 instances): 71.4\n",
            "#tr: 400, epochs: 100, learning rate: 0.050; Accuracy (test, 14 instances): 71.4\n"
          ]
        }
      ],
      "source": [
        "instances_tr = read_data(\"train.dat\")\n",
        "instances_te = read_data(\"test.dat\")\n",
        "tr_percent = [5, 10, 25, 50, 75, 100] # percent of the training dataset to train with\n",
        "num_epochs = [5, 10, 20, 50, 100]     # number of epochs\n",
        "lr_array = [0.005, 0.01, 0.05]        # learning rate\n",
        "\n",
        "for lr in lr_array:\n",
        "  for tr_size in tr_percent:\n",
        "    for epochs in num_epochs:\n",
        "      size =  round(len(instances_tr)*tr_size/100)\n",
        "      pre_instances = instances_tr[0:size]\n",
        "      weights = train_perceptron(pre_instances, lr, epochs)\n",
        "      accuracy = get_accuracy(weights, instances_te)\n",
        "      print(f\"#tr: {len(pre_instances):0}, epochs: {epochs:3}, learning rate: {lr:.3f}; \"\n",
        "            f\"Accuracy (test, {len(instances_te)} instances): {accuracy:.1f}\")"
      ]
    },
    {
      "cell_type": "markdown",
      "metadata": {
        "id": "OFB9MtwML24O"
      },
      "source": [
        "### Question 3\n",
        "Write a couple paragraphs interpreting the results with all the combinations of hyperparameters. Drawing a plot will probably help you make a point. In particular, answer the following:\n",
        "- A. Do you need to train with all the training dataset to get the highest accuracy with the test dataset?\n",
        "\n",
        "- Answer: No, it is not necessarily required to train with the entire dataset to achieve maximum accuracy. In the results, for example, tr: 400, epochs: 20, learning rate: 0.050 gives 85.7% accuracy. But even with tr: 300, epochs: 20, learning rate: 0.050, we see 79.0% accuracy, which is quite close. This informs us that the carefully selected subset of the training data can be as good, or even better, in accuracy with the appropriate hyperparameter tuning.\n",
        "- B. How do you justify that training the second run obtains worse accuracy than the first one (despite the second one uses more training data)?\n",
        "   ```\n",
        "#tr: 100, epochs:  20, learning rate: 0.050; Accuracy (test, 100 instances): 71.0\n",
        "#tr: 200, epochs:  20, learning rate: 0.005; Accuracy (test, 100 instances): 68.0\n",
        "\n",
        "- Answer : The second run (tr: 200, epochs: 20, learning rate: 0.005) was 68.0% accurate, but the first run (tr: 100, epochs: 20, learning rate: 0.050) was 71.0% accurate. This may be because:\n",
        "\n",
        "  Learning rate differences: The first run had a very high learning rate (0.050) and therefore the capacity to learn larger amounts per epoch with the possibility of quicker convergence.\n",
        "\n",
        "  Underfitting due to low learning rate: The second iteration used 0.005, which may have led to slower convergence or insufficient updates, resulting in lower accuracy.\n",
        "\n",
        "  Data complexity and noise: More training data does not always lead to higher accuracy, especially if it introduces more noise or redundancy.\n",
        "\n",
        "\n",
        "\n",
        "- C. Can you get higher accuracy with additional hyperparameters (higher than `80.0`)?\n",
        "\n",
        "- Answer: Perhaps. The highest accuracy achieved is 80.0% with tr: 400, epochs: 50, learning rate: 0.050. Additional improvements can be made by:\n",
        "\n",
        "  Dynamically adjusting the learning rate instead of it being a fixed constant.\n",
        "\n",
        "  Using different activation functions or learning rates which are adaptive and vary during epochs.\n",
        "\n",
        "  Using weight regularization to avoid overfitting while making training effective.\n",
        "\n",
        "- D. Is it always worth training for more epochs (while keeping all other hyperparameters fixed)?\n",
        "\n",
        "- Answer: Not necessarily. We observe that after a certain number of epochs, accuracy improvements plateau or even decrease (e.g., tr: 400, epochs: 100, learning rate: 0.050 still has 80.0%, same as 50 epochs). This suggests that after a certain point, the model can start overfitting or the learning rate is too high/low to make meaningful further updates. Instead of blindly increasing epochs, adjusting other hyperparameters can yield more dividends.\n",
        "\n",
        "#### TODO: Add your answer here (code and text)\n",
        "\n"
      ]
    },
    {
      "cell_type": "markdown",
      "metadata": {
        "id": "38rA_Kp3wiBX"
      },
      "source": []
    },
    {
      "cell_type": "markdown",
      "source": [
        "Here’s a Python script to generate plots for accuracy vs. epochs and accuracy vs. training size using the results you provided. This will help visualize when the model performance plateaus."
      ],
      "metadata": {
        "id": "wSTpUPSCIejP"
      }
    },
    {
      "cell_type": "code",
      "source": [
        "import matplotlib.pyplot as plt\n",
        "\n",
        "# Example data (replace with your actual results)\n",
        "training_sizes = [20, 40, 100, 200, 300, 400]\n",
        "learning_rate = 0.010\n",
        "epochs = 100\n",
        "\n",
        "accuracy_data = {\n",
        "    (20, 100, 0.010): 85.7,\n",
        "    (40, 100, 0.010): 71.4,\n",
        "    (100, 100, 0.010): 71.4,\n",
        "    (200, 100, 0.010): 85.7,\n",
        "    (300, 100, 0.010): 85.7,\n",
        "    (400, 100, 0.010): 71.4\n",
        "}\n",
        "\n",
        "accuracy_values = [accuracy_data[(size, epochs, learning_rate)] for size in training_sizes]\n",
        "\n",
        "plt.figure(figsize=(10, 6))\n",
        "plt.plot(training_sizes, accuracy_values, marker='o', label=f'LR={learning_rate}, Epochs={epochs}')\n",
        "plt.xlabel('Training Set Size')\n",
        "plt.ylabel('Accuracy (%)')\n",
        "plt.title('Accuracy vs. Training Set Size (Learning Rate = 0.010, Epochs = 100)')\n",
        "plt.legend()\n",
        "plt.grid(True)\n",
        "plt.show()"
      ],
      "metadata": {
        "colab": {
          "base_uri": "https://localhost:8080/",
          "height": 564
        },
        "id": "lTnZKDpB7H3N",
        "outputId": "e50aa3bf-04c0-4788-e555-5adace16d14b"
      },
      "execution_count": 18,
      "outputs": [
        {
          "output_type": "display_data",
          "data": {
            "text/plain": [
              "<Figure size 1000x600 with 1 Axes>"
            ],
            "image/png": "[encoded data removed]"
          },
          "metadata": {}
        }
      ]
    },
    {
      "cell_type": "code",
      "source": [
        "import math\n",
        "import re\n",
        "import random\n",
        "\n",
        "# Read data function\n",
        "def read_data(file_name):\n",
        "    with open(file_name, 'r') as f:\n",
        "        data = []\n",
        "        f.readline()  # Skip header\n",
        "        for instance in f.readlines():\n",
        "            if not re.search('\\t', instance):\n",
        "                continue\n",
        "            instance = list(map(int, instance.strip().split('\\t')))\n",
        "            instance = [1] + instance  # Add bias term\n",
        "            data.append(instance)\n",
        "    return data\n",
        "\n",
        "# Dot product function\n",
        "def dot_product(array1, array2):\n",
        "    return sum(a * b for a, b in zip(array1, array2))\n",
        "\n",
        "# Sigmoid function\n",
        "def sigmoid(x):\n",
        "    return 1 / (1 + math.exp(-x))\n",
        "\n",
        "# Prediction function\n",
        "def predict(weights, instance):\n",
        "    return 1 if sigmoid(dot_product(weights, instance)) >= 0.5 else 0\n",
        "\n",
        "# Accuracy calculation\n",
        "def get_accuracy(weights, instances):\n",
        "    correct = sum(1 if predict(weights, instance) == instance[-1] else 0 for instance in instances)\n",
        "    return correct * 100 / len(instances)\n",
        "\n",
        "# *Train perceptron using Adaptive Learning Rate (Adam Optimizer)*\n",
        "def train_perceptron_adam(instances, lr, epochs, beta1=0.9, beta2=0.999, epsilon=1e-8):\n",
        "    random.seed(42)\n",
        "    weights = [random.uniform(-0.01, 0.01) for _ in range(len(instances[0]) - 1)]\n",
        "    m = [0] * len(weights)  # Momentum term\n",
        "    v = [0] * len(weights)  # RMSprop term\n",
        "\n",
        "    for epoch in range(1, epochs + 1):\n",
        "        random.shuffle(instances)\n",
        "        for instance in instances:\n",
        "            in_value = dot_product(weights, instance)\n",
        "            output_value = sigmoid(in_value)\n",
        "            error = instance[-1] - output_value\n",
        "\n",
        "            for i in range(len(weights)):\n",
        "                gradient = error * output_value * (1 - output_value) * instance[i]\n",
        "\n",
        "                # *Adam Optimizer calculations*\n",
        "                m[i] = beta1 * m[i] + (1 - beta1) * gradient\n",
        "                v[i] = beta2 * v[i] + (1 - beta2) * (gradient ** 2)\n",
        "\n",
        "                # Bias correction\n",
        "                m_corrected = m[i] / (1 - beta1 ** epoch)\n",
        "                v_corrected = v[i] / (1 - beta2 ** epoch)\n",
        "\n",
        "                # Update weights\n",
        "                weights[i] += lr * m_corrected / (math.sqrt(v_corrected) + epsilon)\n",
        "\n",
        "    return weights\n",
        "\n",
        "# Load dataset\n",
        "instances_tr = read_data(\"train.dat\")\n",
        "instances_te = read_data(\"test.dat\")\n",
        "\n",
        "# *Training Parameters*\n",
        "lr = 0.01\n",
        "epochs = 50\n",
        "\n",
        "# Train the model\n",
        "weights = train_perceptron_adam(instances_tr, lr, epochs)\n",
        "\n",
        "# Calculate accuracy\n",
        "accuracy = get_accuracy(weights, instances_te)\n",
        "print(f\"Test Accuracy with Adam Optimizer: {accuracy:.2f}%\")"
      ],
      "metadata": {
        "colab": {
          "base_uri": "https://localhost:8080/"
        },
        "id": "tAM1jlie_vv9",
        "outputId": "0ac90ff8-7c24-4e3f-ffa0-6b86ac047010"
      },
      "execution_count": 19,
      "outputs": [
        {
          "output_type": "stream",
          "name": "stdout",
          "text": [
            "Test Accuracy with Adam Optimizer: 71.43%\n"
          ]
        }
      ]
    }
  ],
  "metadata": {
    "accelerator": "GPU",
    "colab": {
      "provenance": []
    },
    "kernelspec": {
      "display_name": "Python 3",
      "name": "python3"
    },
    "language_info": {
      "codemirror_mode": {
        "name": "ipython",
        "version": 3
      },
      "file_extension": ".py",
      "mimetype": "text/x-python",
      "name": "python",
      "nbconvert_exporter": "python",
      "pygments_lexer": "ipython3",
      "version": "3.9.6"
    }
  },
  "nbformat": 4,
  "nbformat_minor": 0
}